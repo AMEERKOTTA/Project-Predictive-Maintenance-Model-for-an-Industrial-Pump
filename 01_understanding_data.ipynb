{
 "cells": [
  {
   "cell_type": "markdown",
   "id": "8625df5f-19d6-4754-afa0-02b4fd195f42",
   "metadata": {},
   "source": [
    "## Initial Dataset Exploration"
   ]
  },
  {
   "cell_type": "code",
   "execution_count": 2,
   "id": "22f9176b-1b09-4628-b793-2e7b8ac96c24",
   "metadata": {},
   "outputs": [],
   "source": [
    "## import required libraries\n",
    "import pandas as pd\n",
    "import numpy as np\n",
    "import matplotlib.pyplot as plt\n",
    "import seaborn as sns"
   ]
  },
  {
   "cell_type": "markdown",
   "id": "867fc062-7709-4e84-ba7a-3daa7a3cdabf",
   "metadata": {},
   "source": [
    "#### Read the Dataset"
   ]
  },
  {
   "cell_type": "code",
   "execution_count": 73,
   "id": "50f4d10e-d501-4156-8de9-afbbcc1a066d",
   "metadata": {},
   "outputs": [
    {
     "data": {
      "text/html": [
       "<div>\n",
       "<style scoped>\n",
       "    .dataframe tbody tr th:only-of-type {\n",
       "        vertical-align: middle;\n",
       "    }\n",
       "\n",
       "    .dataframe tbody tr th {\n",
       "        vertical-align: top;\n",
       "    }\n",
       "\n",
       "    .dataframe thead th {\n",
       "        text-align: right;\n",
       "    }\n",
       "</style>\n",
       "<table border=\"1\" class=\"dataframe\">\n",
       "  <thead>\n",
       "    <tr style=\"text-align: right;\">\n",
       "      <th></th>\n",
       "      <th>timestamp</th>\n",
       "      <th>vibration_level</th>\n",
       "      <th>temperature_C</th>\n",
       "      <th>pressure_PSI</th>\n",
       "      <th>flow_rate_m3h</th>\n",
       "      <th>failure</th>\n",
       "    </tr>\n",
       "  </thead>\n",
       "  <tbody>\n",
       "    <tr>\n",
       "      <th>0</th>\n",
       "      <td>2024-01-01 00:00:00</td>\n",
       "      <td>0.549671</td>\n",
       "      <td>76.996777</td>\n",
       "      <td>93.248217</td>\n",
       "      <td>40.460962</td>\n",
       "      <td>0</td>\n",
       "    </tr>\n",
       "    <tr>\n",
       "      <th>1</th>\n",
       "      <td>2024-01-01 01:00:00</td>\n",
       "      <td>0.486174</td>\n",
       "      <td>74.623168</td>\n",
       "      <td>98.554813</td>\n",
       "      <td>45.698075</td>\n",
       "      <td>0</td>\n",
       "    </tr>\n",
       "    <tr>\n",
       "      <th>2</th>\n",
       "      <td>2024-01-01 02:00:00</td>\n",
       "      <td>0.564769</td>\n",
       "      <td>70.298152</td>\n",
       "      <td>92.075801</td>\n",
       "      <td>47.931972</td>\n",
       "      <td>0</td>\n",
       "    </tr>\n",
       "    <tr>\n",
       "      <th>3</th>\n",
       "      <td>2024-01-01 03:00:00</td>\n",
       "      <td>0.652303</td>\n",
       "      <td>66.765316</td>\n",
       "      <td>96.920385</td>\n",
       "      <td>59.438438</td>\n",
       "      <td>0</td>\n",
       "    </tr>\n",
       "    <tr>\n",
       "      <th>4</th>\n",
       "      <td>2024-01-01 04:00:00</td>\n",
       "      <td>0.476585</td>\n",
       "      <td>73.491117</td>\n",
       "      <td>81.063853</td>\n",
       "      <td>52.782766</td>\n",
       "      <td>0</td>\n",
       "    </tr>\n",
       "  </tbody>\n",
       "</table>\n",
       "</div>"
      ],
      "text/plain": [
       "             timestamp  vibration_level  temperature_C  pressure_PSI  \\\n",
       "0  2024-01-01 00:00:00         0.549671      76.996777     93.248217   \n",
       "1  2024-01-01 01:00:00         0.486174      74.623168     98.554813   \n",
       "2  2024-01-01 02:00:00         0.564769      70.298152     92.075801   \n",
       "3  2024-01-01 03:00:00         0.652303      66.765316     96.920385   \n",
       "4  2024-01-01 04:00:00         0.476585      73.491117     81.063853   \n",
       "\n",
       "   flow_rate_m3h  failure  \n",
       "0      40.460962        0  \n",
       "1      45.698075        0  \n",
       "2      47.931972        0  \n",
       "3      59.438438        0  \n",
       "4      52.782766        0  "
      ]
     },
     "execution_count": 73,
     "metadata": {},
     "output_type": "execute_result"
    }
   ],
   "source": [
    "## read data using pandas\n",
    "pump_data = pd.read_csv('hypothetical_pump_failure_dataset.csv')\n",
    "pump_data.head()"
   ]
  },
  {
   "cell_type": "markdown",
   "id": "32f8828c-58bc-4425-be92-ecd6d17664f9",
   "metadata": {},
   "source": [
    "#### Dataset Exploration"
   ]
  },
  {
   "cell_type": "code",
   "execution_count": 74,
   "id": "7b247307-690d-4e1b-a37a-a21b1fa9ad86",
   "metadata": {},
   "outputs": [
    {
     "name": "stdout",
     "output_type": "stream",
     "text": [
      "<class 'pandas.core.frame.DataFrame'>\n",
      "RangeIndex: 1000 entries, 0 to 999\n",
      "Data columns (total 6 columns):\n",
      " #   Column           Non-Null Count  Dtype  \n",
      "---  ------           --------------  -----  \n",
      " 0   timestamp        1000 non-null   object \n",
      " 1   vibration_level  1000 non-null   float64\n",
      " 2   temperature_C    1000 non-null   float64\n",
      " 3   pressure_PSI     1000 non-null   float64\n",
      " 4   flow_rate_m3h    1000 non-null   float64\n",
      " 5   failure          1000 non-null   int64  \n",
      "dtypes: float64(4), int64(1), object(1)\n",
      "memory usage: 47.0+ KB\n"
     ]
    }
   ],
   "source": [
    "## get the overall information of the data\n",
    "pump_data.info()"
   ]
  },
  {
   "cell_type": "markdown",
   "id": "335f2863-bcd6-449d-9a1f-d382ab5a4737",
   "metadata": {},
   "source": [
    "#### Statistical Summary"
   ]
  },
  {
   "cell_type": "code",
   "execution_count": 75,
   "id": "7d086cfd-459b-4684-a874-9e0ab8054e9c",
   "metadata": {},
   "outputs": [
    {
     "data": {
      "text/html": [
       "<div>\n",
       "<style scoped>\n",
       "    .dataframe tbody tr th:only-of-type {\n",
       "        vertical-align: middle;\n",
       "    }\n",
       "\n",
       "    .dataframe tbody tr th {\n",
       "        vertical-align: top;\n",
       "    }\n",
       "\n",
       "    .dataframe thead th {\n",
       "        text-align: right;\n",
       "    }\n",
       "</style>\n",
       "<table border=\"1\" class=\"dataframe\">\n",
       "  <thead>\n",
       "    <tr style=\"text-align: right;\">\n",
       "      <th></th>\n",
       "      <th>vibration_level</th>\n",
       "      <th>temperature_C</th>\n",
       "      <th>pressure_PSI</th>\n",
       "      <th>flow_rate_m3h</th>\n",
       "      <th>failure</th>\n",
       "    </tr>\n",
       "  </thead>\n",
       "  <tbody>\n",
       "    <tr>\n",
       "      <th>count</th>\n",
       "      <td>1000.000000</td>\n",
       "      <td>1000.000000</td>\n",
       "      <td>1000.000000</td>\n",
       "      <td>1000.000000</td>\n",
       "      <td>1000.000000</td>\n",
       "    </tr>\n",
       "    <tr>\n",
       "      <th>mean</th>\n",
       "      <td>0.501933</td>\n",
       "      <td>70.354181</td>\n",
       "      <td>100.058342</td>\n",
       "      <td>49.906404</td>\n",
       "      <td>0.049000</td>\n",
       "    </tr>\n",
       "    <tr>\n",
       "      <th>std</th>\n",
       "      <td>0.097922</td>\n",
       "      <td>4.987272</td>\n",
       "      <td>9.834543</td>\n",
       "      <td>5.135663</td>\n",
       "      <td>0.215976</td>\n",
       "    </tr>\n",
       "    <tr>\n",
       "      <th>min</th>\n",
       "      <td>0.175873</td>\n",
       "      <td>55.298057</td>\n",
       "      <td>69.804878</td>\n",
       "      <td>35.352757</td>\n",
       "      <td>0.000000</td>\n",
       "    </tr>\n",
       "    <tr>\n",
       "      <th>25%</th>\n",
       "      <td>0.435241</td>\n",
       "      <td>66.968792</td>\n",
       "      <td>93.520004</td>\n",
       "      <td>46.312898</td>\n",
       "      <td>0.000000</td>\n",
       "    </tr>\n",
       "    <tr>\n",
       "      <th>50%</th>\n",
       "      <td>0.502530</td>\n",
       "      <td>70.315386</td>\n",
       "      <td>99.997492</td>\n",
       "      <td>50.000923</td>\n",
       "      <td>0.000000</td>\n",
       "    </tr>\n",
       "    <tr>\n",
       "      <th>75%</th>\n",
       "      <td>0.564794</td>\n",
       "      <td>73.644411</td>\n",
       "      <td>106.609153</td>\n",
       "      <td>53.334727</td>\n",
       "      <td>0.000000</td>\n",
       "    </tr>\n",
       "    <tr>\n",
       "      <th>max</th>\n",
       "      <td>0.885273</td>\n",
       "      <td>85.965538</td>\n",
       "      <td>139.262377</td>\n",
       "      <td>66.215465</td>\n",
       "      <td>1.000000</td>\n",
       "    </tr>\n",
       "  </tbody>\n",
       "</table>\n",
       "</div>"
      ],
      "text/plain": [
       "       vibration_level  temperature_C  pressure_PSI  flow_rate_m3h  \\\n",
       "count      1000.000000    1000.000000   1000.000000    1000.000000   \n",
       "mean          0.501933      70.354181    100.058342      49.906404   \n",
       "std           0.097922       4.987272      9.834543       5.135663   \n",
       "min           0.175873      55.298057     69.804878      35.352757   \n",
       "25%           0.435241      66.968792     93.520004      46.312898   \n",
       "50%           0.502530      70.315386     99.997492      50.000923   \n",
       "75%           0.564794      73.644411    106.609153      53.334727   \n",
       "max           0.885273      85.965538    139.262377      66.215465   \n",
       "\n",
       "           failure  \n",
       "count  1000.000000  \n",
       "mean      0.049000  \n",
       "std       0.215976  \n",
       "min       0.000000  \n",
       "25%       0.000000  \n",
       "50%       0.000000  \n",
       "75%       0.000000  \n",
       "max       1.000000  "
      ]
     },
     "execution_count": 75,
     "metadata": {},
     "output_type": "execute_result"
    }
   ],
   "source": [
    "## doing the statistical summary analysis to get the count, mean, min, max and standard deviations of the data\n",
    "pump_data.describe()"
   ]
  },
  {
   "cell_type": "markdown",
   "id": "d57f0fb4-bc7e-4311-b5db-0eb1cd836606",
   "metadata": {},
   "source": [
    "#### Missing Values Check"
   ]
  },
  {
   "cell_type": "code",
   "execution_count": 76,
   "id": "17ebc578-737f-43eb-aa48-3299c7370c54",
   "metadata": {},
   "outputs": [
    {
     "name": "stdout",
     "output_type": "stream",
     "text": [
      "timestamp          0\n",
      "vibration_level    0\n",
      "temperature_C      0\n",
      "pressure_PSI       0\n",
      "flow_rate_m3h      0\n",
      "failure            0\n",
      "dtype: int64\n"
     ]
    }
   ],
   "source": [
    "## checking the missing values\n",
    "print(pump_data.isnull().sum())"
   ]
  },
  {
   "cell_type": "markdown",
   "id": "7c5f2022-b182-4403-bc62-989ffb494d9c",
   "metadata": {},
   "source": [
    "#### Feature Understanding"
   ]
  },
  {
   "cell_type": "code",
   "execution_count": 78,
   "id": "02b52ef7-a2e8-4cc7-8033-00382e3ca5b5",
   "metadata": {},
   "outputs": [],
   "source": [
    "df_features = pump_data.drop(columns = ['failure'])\n",
    "df_target = pump_data['failure']"
   ]
  },
  {
   "cell_type": "code",
   "execution_count": 79,
   "id": "5c26b569-3ea9-4dbd-bb0e-70ec1521ad2d",
   "metadata": {},
   "outputs": [
    {
     "data": {
      "text/html": [
       "<div>\n",
       "<style scoped>\n",
       "    .dataframe tbody tr th:only-of-type {\n",
       "        vertical-align: middle;\n",
       "    }\n",
       "\n",
       "    .dataframe tbody tr th {\n",
       "        vertical-align: top;\n",
       "    }\n",
       "\n",
       "    .dataframe thead th {\n",
       "        text-align: right;\n",
       "    }\n",
       "</style>\n",
       "<table border=\"1\" class=\"dataframe\">\n",
       "  <thead>\n",
       "    <tr style=\"text-align: right;\">\n",
       "      <th></th>\n",
       "      <th>timestamp</th>\n",
       "      <th>vibration_level</th>\n",
       "      <th>temperature_C</th>\n",
       "      <th>pressure_PSI</th>\n",
       "      <th>flow_rate_m3h</th>\n",
       "    </tr>\n",
       "  </thead>\n",
       "  <tbody>\n",
       "    <tr>\n",
       "      <th>0</th>\n",
       "      <td>2024-01-01 00:00:00</td>\n",
       "      <td>0.549671</td>\n",
       "      <td>76.996777</td>\n",
       "      <td>93.248217</td>\n",
       "      <td>40.460962</td>\n",
       "    </tr>\n",
       "    <tr>\n",
       "      <th>1</th>\n",
       "      <td>2024-01-01 01:00:00</td>\n",
       "      <td>0.486174</td>\n",
       "      <td>74.623168</td>\n",
       "      <td>98.554813</td>\n",
       "      <td>45.698075</td>\n",
       "    </tr>\n",
       "    <tr>\n",
       "      <th>2</th>\n",
       "      <td>2024-01-01 02:00:00</td>\n",
       "      <td>0.564769</td>\n",
       "      <td>70.298152</td>\n",
       "      <td>92.075801</td>\n",
       "      <td>47.931972</td>\n",
       "    </tr>\n",
       "    <tr>\n",
       "      <th>3</th>\n",
       "      <td>2024-01-01 03:00:00</td>\n",
       "      <td>0.652303</td>\n",
       "      <td>66.765316</td>\n",
       "      <td>96.920385</td>\n",
       "      <td>59.438438</td>\n",
       "    </tr>\n",
       "    <tr>\n",
       "      <th>4</th>\n",
       "      <td>2024-01-01 04:00:00</td>\n",
       "      <td>0.476585</td>\n",
       "      <td>73.491117</td>\n",
       "      <td>81.063853</td>\n",
       "      <td>52.782766</td>\n",
       "    </tr>\n",
       "  </tbody>\n",
       "</table>\n",
       "</div>"
      ],
      "text/plain": [
       "             timestamp  vibration_level  temperature_C  pressure_PSI  \\\n",
       "0  2024-01-01 00:00:00         0.549671      76.996777     93.248217   \n",
       "1  2024-01-01 01:00:00         0.486174      74.623168     98.554813   \n",
       "2  2024-01-01 02:00:00         0.564769      70.298152     92.075801   \n",
       "3  2024-01-01 03:00:00         0.652303      66.765316     96.920385   \n",
       "4  2024-01-01 04:00:00         0.476585      73.491117     81.063853   \n",
       "\n",
       "   flow_rate_m3h  \n",
       "0      40.460962  \n",
       "1      45.698075  \n",
       "2      47.931972  \n",
       "3      59.438438  \n",
       "4      52.782766  "
      ]
     },
     "execution_count": 79,
     "metadata": {},
     "output_type": "execute_result"
    }
   ],
   "source": [
    "## features\n",
    "df_features.head()"
   ]
  },
  {
   "cell_type": "code",
   "execution_count": 80,
   "id": "1fad9d05-d018-47ac-b52d-7dc43ff3e173",
   "metadata": {},
   "outputs": [
    {
     "data": {
      "text/plain": [
       "0    0\n",
       "1    0\n",
       "2    0\n",
       "3    0\n",
       "4    0\n",
       "Name: failure, dtype: int64"
      ]
     },
     "execution_count": 80,
     "metadata": {},
     "output_type": "execute_result"
    }
   ],
   "source": [
    "## target\n",
    "df_target.head()"
   ]
  },
  {
   "cell_type": "markdown",
   "id": "01aed7ab-7126-4963-a419-3d4c8f4d289e",
   "metadata": {},
   "source": [
    "#### Failure/Non Failure Imbalance"
   ]
  },
  {
   "cell_type": "code",
   "execution_count": 81,
   "id": "e38abc23-5a02-4376-8168-eb4215b0686d",
   "metadata": {},
   "outputs": [
    {
     "name": "stdout",
     "output_type": "stream",
     "text": [
      "failure\n",
      "0    951\n",
      "1     49\n",
      "Name: count, dtype: int64\n"
     ]
    }
   ],
   "source": [
    "## as the target values are 1 and 0\n",
    "## which means 1 = failure\n",
    "## 0 = success or not failure.\n",
    "\n",
    "print(pump_data['failure'].value_counts())"
   ]
  },
  {
   "cell_type": "code",
   "execution_count": 82,
   "id": "9d120665-dfb9-4f23-a60b-ee6c09d043d1",
   "metadata": {},
   "outputs": [
    {
     "data": {
      "image/png": "[encoded data removed]",
      "text/plain": [
       "<Figure size 640x480 with 1 Axes>"
      ]
     },
     "metadata": {},
     "output_type": "display_data"
    }
   ],
   "source": [
    "sns.countplot(x='failure', data=pump_data)\n",
    "plt.show()"
   ]
  },
  {
   "cell_type": "markdown",
   "id": "1846bd1a-c066-4321-9304-f1f089bb4314",
   "metadata": {},
   "source": [
    "## Data Exploration\n",
    "\n",
    "**By Looking at the Data**\n",
    "\n",
    "+ The dataset contain columns which are `timestamp`, `vibration_level`, `temperature_C`, `pressure_PSI`, `flow_rate_m3h`, `failure`.\n",
    "+ Number of Rows are 1000.\n",
    "+ By the first Look it is understood that there is no missing values in the data.\n",
    "+ And from the timestamp, it is understood that the data is hourly readings of a particular pump starting from `1st January 2024 12:00 AM` to `11th February 2024 3:00 PM`.\n",
    "+ So this is a data of a pump perfomance of 1000 hours.\n",
    "\n",
    "**Statistical Summary**\n",
    "\n",
    "Vibration Level\n",
    "+ Average (0.501933): The average vibration level is around 0.50, with a fairly low standard deviation (0.097922), indicating that the vibration levels are generally stable.\n",
    "+ Range (0.175873 to 0.885273): The minimum and maximum values suggest that the vibration level varies but within a moderate range. This range might indicate normal operating conditions, but it’s essential to explore whether higher vibration levels correlate with failures.\n",
    "+ Implication: If high vibration levels are linked to failures, the maximum value (0.885273) could be a threshold to monitor. However, this needs to be validated with failure events in your dataset.\n",
    "\n",
    "Temperature\n",
    "+ Average (70.354181): The average temperature is around 70°C, with a larger standard deviation (4.987272) compared to vibration, indicating more variability in temperature readings.\n",
    "+ Range (55.298057 to 85.965538): The temperature values span a wide range, from 55°C to nearly 86°C. The higher end might indicate overheating, which could be a precursor to failure.\n",
    "+ Implication: If there are failures at higher temperatures, the upper range (85.965538) could be critical. Plotting temperature against time and correlating it with failures could provide insights into whether high temperatures are a strong predictor of failure.\n",
    "\n",
    "Pressure\n",
    "+ Average (100.058342): The average pressure is around 100 PSI, with a standard deviation of 9.834543, indicating that pressure fluctuates more significantly than vibration or temperature.\n",
    "+ Range (69.804878 to 139.262377): The pressure varies widely, with some readings as low as 69 PSI and others as high as 139 PSI. This suggests that the pump operates under varying conditions, which could stress the system.\n",
    "+ Implication: Extreme pressure readings (both low and high) might be linked to potential failures. Analyzing pressure patterns before failures could help in identifying critical thresholds.\n",
    "\n",
    "Flow Rate\n",
    "+ Average (49.906404): The flow rate hovers around 50 m³/h, with a relatively moderate standard deviation, indicating consistent flow performance.\n",
    "+ Range (35.352757 to 66.215465): The flow rate also shows some variability, with lower values potentially indicating blockages or issues with the pump's efficiency.\n",
    "+ Implication: Similar to the other features, analyzing flow rate in relation to failures can help in identifying if low or high flow rates are indicators of pump malfunction.\n",
    "\n",
    "General Observations\n",
    "+ Feature Variability: Pressure and temperature show more variability compared to vibration and flow rate. This suggests that these might be more influential in predicting failures.\n",
    "+ Potential Outliers: The minimum and maximum values in each feature may represent outliers or edge cases. Investigating these instances could reveal critical conditions leading to failure.\n",
    "+ Sensor Interaction: It might be beneficial to explore interactions between features (e.g., high pressure combined with high temperature) to see if they jointly contribute to failures.\n",
    "\n",
    "**Checking the Missing Values**\n",
    "\n",
    "+ There is no Missing Values in the Dataset\n",
    "\n",
    "**Feature Understanding**\n",
    "\n",
    "+ As the column failure represents the target which is failure or not failure based on the readings of the others.\n",
    "+ The features are vibration level, temperature, pressure, flow rate of the pump.\n",
    "+ And the column failure is the target\n",
    "\n",
    "**Failure/Non Failure Imbalance in the Data**\n",
    "\n",
    "+ From the whole data, out of 1000 readings only 49 times the pump failed."
   ]
  },
  {
   "cell_type": "code",
   "execution_count": null,
   "id": "405701c2-ddbe-456b-a974-a720032c0efb",
   "metadata": {},
   "outputs": [],
   "source": []
  }
 ],
 "metadata": {
  "kernelspec": {
   "display_name": "Python 3 (ipykernel)",
   "language": "python",
   "name": "python3"
  },
  "language_info": {
   "codemirror_mode": {
    "name": "ipython",
    "version": 3
   },
   "file_extension": ".py",
   "mimetype": "text/x-python",
   "name": "python",
   "nbconvert_exporter": "python",
   "pygments_lexer": "ipython3",
   "version": "3.12.4"
  }
 },
 "nbformat": 4,
 "nbformat_minor": 5
}
